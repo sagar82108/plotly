{
 "cells": [
  {
   "cell_type": "code",
   "execution_count": null,
   "id": "b78ff308-f3c7-4230-913f-ae1b32bc0011",
   "metadata": {},
   "outputs": [],
   "source": [
    "#ans1)\n",
    "!pip install plotly\n",
    "import plotly.express as px\n",
    "import seaborn as sns\n",
    "df=sns.load_dataset('titanic')\n",
    "fig = px.scatter(df, x='age', y='fare')\n",
    "fig.show()"
   ]
  },
  {
   "cell_type": "code",
   "execution_count": null,
   "id": "2b452142-e549-4904-9ade-05c4804adcee",
   "metadata": {},
   "outputs": [],
   "source": [
    "#ans2)\n",
    "import plotly.express as px\n",
    "df=px.data.tips()\n",
    "fig = px.box(df, x=\"day\", y=\"total_bill\", points=\"all\")\n",
    "fig.show()"
   ]
  },
  {
   "cell_type": "code",
   "execution_count": null,
   "id": "21112f90-29bb-4ab3-8dcd-d725456f9f77",
   "metadata": {},
   "outputs": [],
   "source": [
    "#ans3)\n",
    "import plotly.express as px\n",
    "df=px.data.tips()\n",
    "fig=px.histogram(df,x=\"sex\",y=\"total_bill\",color=\"day\",pattern_shape=\"smoker\")\n",
    "fig.show()"
   ]
  },
  {
   "cell_type": "code",
   "execution_count": null,
   "id": "5f78882e-6472-4acd-89d4-e3690a30de13",
   "metadata": {},
   "outputs": [],
   "source": [
    "ans4)\n",
    "import plotly.express as px\n",
    "df=px.data.iris()\n",
    "fig = px.scatter_matrix(df, \n",
    "                        dimensions=[\"sepal_width\", \"sepal_length\", \"petal_width\", \"petal_length\"],\n",
    "                        color=\"species\",\n",
    "                        title=\"Scatter Matrix Plot of Iris Dataset\")\n",
    "fig.show()\n"
   ]
  },
  {
   "cell_type": "code",
   "execution_count": null,
   "id": "3c183613-6c21-456c-a9e3-5fa0d8581f6d",
   "metadata": {},
   "outputs": [],
   "source": [
    "\"\"\"In Plotly Express, the distplot() function is used to create a distribution plot, also known as a histogram or density plot.\n",
    "It displays the distribution of a single variable in a dataset, showing the frequency or density of different values.\"\"\"\n",
    "import plotly.express as px\n",
    "df = px.data.tips\n",
    "fig = px.histogram(df, x=\"total_bill\", title=\"Distribution of Total Bill Amount\")\n",
    "fig.show()\n"
   ]
  },
  {
   "cell_type": "code",
   "execution_count": null,
   "id": "9de1a166-d060-4602-beb9-cd0e2bf60a1f",
   "metadata": {},
   "outputs": [],
   "source": []
  }
 ],
 "metadata": {
  "kernelspec": {
   "display_name": "Python 3 (ipykernel)",
   "language": "python",
   "name": "python3"
  },
  "language_info": {
   "codemirror_mode": {
    "name": "ipython",
    "version": 3
   },
   "file_extension": ".py",
   "mimetype": "text/x-python",
   "name": "python",
   "nbconvert_exporter": "python",
   "pygments_lexer": "ipython3",
   "version": "3.10.8"
  }
 },
 "nbformat": 4,
 "nbformat_minor": 5
}
